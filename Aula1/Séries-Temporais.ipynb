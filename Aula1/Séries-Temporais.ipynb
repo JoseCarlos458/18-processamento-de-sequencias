{
 "cells": [
  {
   "cell_type": "code",
   "execution_count": null,
   "metadata": {},
   "outputs": [],
   "source": [
    "ls /home/silvio/dataset/passengers/airline-passengers.csv"
   ]
  },
  {
   "cell_type": "markdown",
   "metadata": {},
   "source": [
    "# Análise temporal"
   ]
  },
  {
   "cell_type": "code",
   "execution_count": null,
   "metadata": {},
   "outputs": [],
   "source": [
    "import pandas as pd\n",
    "import numpy as np\n",
    "\n",
    "from dateutil import parser\n",
    "from datetime import datetime\n",
    "\n",
    "import matplotlib.pyplot as plt\n",
    "\n",
    "from statsmodels.tsa.stattools import adfuller\n",
    "from sklearn.metrics import mean_squared_error\n",
    "\n",
    "from statsmodels.tsa.arima_model import ARIMA\n",
    "import pmdarima as pm\n",
    "\n",
    "from statsmodels.tsa.filters.hp_filter import hpfilter\n",
    "\n",
    "from statsmodels.tsa.filters.hp_filter import hpfilter\n",
    "from scipy import signal\n",
    "from pandas.plotting import autocorrelation_plot\n",
    "from statsmodels.tsa.seasonal import seasonal_decompose \n",
    "\n",
    "plt.rcParams.update({'figure.figsize':(9,3), 'figure.dpi':120})\n",
    "import warnings\n",
    "warnings.filterwarnings('ignore')"
   ]
  },
  {
   "cell_type": "code",
   "execution_count": null,
   "metadata": {},
   "outputs": [],
   "source": []
  },
  {
   "cell_type": "code",
   "execution_count": null,
   "metadata": {},
   "outputs": [],
   "source": []
  },
  {
   "cell_type": "markdown",
   "metadata": {},
   "source": [
    "# Series estacionárias\n",
    "* A média da série não deve ser uma função do tempo, e sim uma constante. \n",
    "* Quando uma série temporal é estacionária, pode ser mais fácil modelar. \n",
    "\n",
    "* A distribuição de nascimento de aves se mostra constante ao passar do tempo\n",
    "* A distribuição de passageiros mostra duas características claras de não-estacionaridade\n",
    "    * tendência: número crescente de passageiros\n",
    "    * repetições de padrões em períodos específicos: meses de férias apresentam um pico de passageiros"
   ]
  },
  {
   "cell_type": "markdown",
   "metadata": {},
   "source": [
    "## Análise gráfica\n",
    "* Série mostrando observação de nascimento de aves\n",
    "* Série mostrando quantidade de passageiros por mês em uma cia área"
   ]
  },
  {
   "cell_type": "code",
   "execution_count": null,
   "metadata": {},
   "outputs": [],
   "source": [
    "birds = pd.read_csv('/home/silvio/dataset/daily.csv', header=0, index_col=0)\n",
    "birds.plot(figsize=(20,10))"
   ]
  },
  {
   "cell_type": "code",
   "execution_count": null,
   "metadata": {},
   "outputs": [],
   "source": [
    "airPassagers = pd.read_csv('/home/silvio/dataset/passengers/airline-passengers.csv', header=0, index_col=0)\n",
    "airPassagers.plot(figsize=(20,10))"
   ]
  },
  {
   "cell_type": "code",
   "execution_count": null,
   "metadata": {},
   "outputs": [],
   "source": [
    "airPassagers"
   ]
  },
  {
   "cell_type": "code",
   "execution_count": null,
   "metadata": {},
   "outputs": [],
   "source": []
  },
  {
   "cell_type": "markdown",
   "metadata": {},
   "source": [
    "## Estatistica Resumida\n",
    "\n",
    "* Segmentando a série temporal in partições menores e comparando a média e variância de cada grupo\n",
    "* Se a diferença é significativa a série é não-estacionária\n",
    "\n",
    "* A seguir comparamos o histograma das duas séries"
   ]
  },
  {
   "cell_type": "code",
   "execution_count": null,
   "metadata": {},
   "outputs": [],
   "source": [
    "birds.hist()"
   ]
  },
  {
   "cell_type": "markdown",
   "metadata": {},
   "source": [
    "## Obtendo média e variância de duas partes distinstas da série\n",
    "* Média e variância da base de aves é similar em diferentes partes\n",
    "* Média e variância da base de Passengers é bem diferente em diferentes partes"
   ]
  },
  {
   "cell_type": "code",
   "execution_count": null,
   "metadata": {},
   "outputs": [],
   "source": [
    "X = birds.values\n",
    "split = round(len(X) / 2)\n",
    "X1, X2 = X[0:split], X[split:]\n",
    "mean1, mean2 = X1.mean(), X2.mean()\n",
    "var1, var2 = X1.var(), X2.var()\n",
    "print('media 1=%f, media 2=%f' % (mean1, mean2))\n",
    "print('variancia 1=%f, variancia 2=%f' % (var1, var2))"
   ]
  },
  {
   "cell_type": "code",
   "execution_count": null,
   "metadata": {},
   "outputs": [],
   "source": [
    "airPassagers.hist()"
   ]
  },
  {
   "cell_type": "markdown",
   "metadata": {},
   "source": [
    "## Obtendo média e variância de duas partes distintas da série"
   ]
  },
  {
   "cell_type": "code",
   "execution_count": null,
   "metadata": {},
   "outputs": [],
   "source": [
    "X = airPassagers.values\n",
    "split = round(len(X) / 2)\n",
    "X1, X2 = X[0:split], X[split:]\n",
    "mean1, mean2 = X1.mean(), X2.mean()\n",
    "var1, var2 = X1.var(), X2.var()\n",
    "print('media 1=%f, media 2=%f' % (mean1, mean2))\n",
    "print('variancia 1=%f, variancia 2=%f' % (var1, var2))"
   ]
  },
  {
   "cell_type": "markdown",
   "metadata": {},
   "source": [
    "## Testando em escala log (passengers)"
   ]
  },
  {
   "cell_type": "code",
   "execution_count": null,
   "metadata": {},
   "outputs": [],
   "source": []
  },
  {
   "cell_type": "markdown",
   "metadata": {},
   "source": [
    "## Comparando resultado da avaliação estatística\n",
    "\n",
    "* Dados de nascimento de aves\n",
    "    * A média e variância das observações mostra um comportamente similar , rementendo a distribuição gaussiana \n",
    "    * Visualmente o histograma também reflete tal similaridade\n",
    "* Dados de passageiros de avião\n",
    "    * Para esse dataset a conclusão é que a distribuição é dependente no tempo, mostrando que é não-estacionária"
   ]
  },
  {
   "cell_type": "markdown",
   "metadata": {},
   "source": [
    "# Teste Estatístico\n",
    "\n",
    "* testes estatísticos são mais confiáveis para classisficar uma série com estacionária ou não-estacionária\n",
    "\n",
    "* Teste Dickey-Fuller\n"
   ]
  },
  {
   "cell_type": "markdown",
   "metadata": {},
   "source": [
    "## teste adfuller para base de aves"
   ]
  },
  {
   "cell_type": "code",
   "execution_count": null,
   "metadata": {},
   "outputs": [],
   "source": [
    "X = birds.values\n",
    "result = adfuller(X)\n",
    "print('ADF: %f' % result[0])\n",
    "print('p-value: %f' % result[1])\n",
    "print('valores criticos:')\n",
    "for key, value in result[4].items():\n",
    "\tprint('\\t%s: %.3f' % (key, value))"
   ]
  },
  {
   "cell_type": "markdown",
   "metadata": {},
   "source": [
    "## teste adfuller para base cia aerea"
   ]
  },
  {
   "cell_type": "code",
   "execution_count": null,
   "metadata": {},
   "outputs": [],
   "source": [
    "\n",
    "X = airPassagers.values\n",
    "result = adfuller(X)\n",
    "print('ADF: %f' % result[0])\n",
    "print('p-value: %f' % result[1])\n",
    "print('valores criticos:')\n",
    "for key, value in result[4].items():\n",
    "\tprint('\\t%s: %.3f' % (key, value))"
   ]
  },
  {
   "cell_type": "markdown",
   "metadata": {},
   "source": [
    "## teste adfuller para base cia aerea (Escala Log)"
   ]
  },
  {
   "cell_type": "code",
   "execution_count": null,
   "metadata": {},
   "outputs": [],
   "source": [
    "X = airPassagers.values\n",
    "X = np.log(X)\n",
    "result = adfuller(X)\n",
    "print('ADF: %f' % result[0])\n",
    "print('p-value: %f' % result[1])\n",
    "print('valores criticos:')\n",
    "for key, value in result[4].items():\n",
    "\tprint('\\t%s: %.3f' % (key, value))"
   ]
  },
  {
   "cell_type": "code",
   "execution_count": null,
   "metadata": {},
   "outputs": [],
   "source": []
  },
  {
   "cell_type": "markdown",
   "metadata": {},
   "source": [
    "## Hodrick-Prescott (HP) filter"
   ]
  },
  {
   "cell_type": "markdown",
   "metadata": {},
   "source": [
    "# Tendencia (trend)\n",
    "* Uma tendência é um padrão observado ao longo de um período de tempo e representa a taxa média de mudança em relação ao tempo. \n",
    "\n",
    "* Uma tendência geralmente mostra a tendência dos dados de aumentar / tendência de alta ou diminuir / tendência de baixa durante o longo prazo.\n",
    "\n",
    "hp_filter separa tendências em um dataset"
   ]
  },
  {
   "cell_type": "code",
   "execution_count": null,
   "metadata": {},
   "outputs": [],
   "source": []
  },
  {
   "cell_type": "markdown",
   "metadata": {},
   "source": [
    "# no dataset airPassagers observamos que o número de passageiros cresce a cada ano."
   ]
  },
  {
   "cell_type": "code",
   "execution_count": null,
   "metadata": {},
   "outputs": [],
   "source": [
    "_,trend = hpfilter(airPassagers['Passengers'])#, lamb=1600) \n",
    "trend.plot(figsize=(15,6)).autoscale(axis='x',tight=True)"
   ]
  },
  {
   "cell_type": "markdown",
   "metadata": {},
   "source": [
    "# no dataset Birds existe um pico de crescimento e um perído longo de estabilidade"
   ]
  },
  {
   "cell_type": "code",
   "execution_count": null,
   "metadata": {},
   "outputs": [],
   "source": [
    "_,trend = hpfilter(birds['Births'])#, lamb=1600) \n",
    "trend.plot(figsize=(15,6)).autoscale(axis='x',tight=True)"
   ]
  },
  {
   "cell_type": "markdown",
   "metadata": {},
   "source": [
    "# detrend\n",
    "\n",
    "Detrending é o processo de \n",
    "remover uma tendência dos dados da série temporal \n",
    "ou mencionar uma mudança na média ao longo do tempo. \n",
    "Está aumentando continuamente ou diminuindo ao longo do tempo. \n",
    "\n",
    "A identificação, modelagem e até mesmo a remoção de dados de tendência de conjuntos de dados de séries temporais podem ser benéficas.\n",
    "\n",
    "* usando função diff do pandas"
   ]
  },
  {
   "cell_type": "code",
   "execution_count": null,
   "metadata": {},
   "outputs": [],
   "source": [
    "diff = airPassagers.Passengers.diff()\n",
    "plt.figure(figsize=(15,6))\n",
    "plt.plot(diff)\n",
    "plt.title('Detrending usando diferenciação', fontsize=16) \n",
    "plt.xlabel('Mes')\n",
    "plt.ylabel('Passageiros')\n",
    "plt.show()"
   ]
  },
  {
   "cell_type": "markdown",
   "metadata": {},
   "source": [
    "# detrend usando fução detrend do scipy"
   ]
  },
  {
   "cell_type": "markdown",
   "metadata": {},
   "source": [
    "* Um sinal é outra forma de dados de série temporal. \n",
    "\n",
    "* Cada sinal aumenta ou diminui em uma ordem diferente. Usando a biblioteca SciPy, isso pode remover a tendência linear dos dados do sinal. \n",
    "\n",
    "* Signal.detrend é um submódulo do SciPy usado para remover uma tendência linear ao longo de um eixo dos dados."
   ]
  },
  {
   "cell_type": "code",
   "execution_count": null,
   "metadata": {},
   "outputs": [],
   "source": [
    "\n",
    "\n",
    "detrended = signal.detrend(airPassagers.Passengers.values)\n",
    "plt.figure(figsize=(15,6)) \n",
    "plt.plot(detrended) \n",
    "plt.xlabel('Valor')\n",
    "plt.ylabel('Frequencia')\n",
    "plt.title('Detrending usando Scipy Signal', fontsize=16) \n",
    "plt.show() "
   ]
  },
  {
   "cell_type": "code",
   "execution_count": null,
   "metadata": {},
   "outputs": [],
   "source": [
    "\n",
    "detrended = signal.detrend(birds.Births.values)\n",
    "plt.figure(figsize=(15,6)) \n",
    "plt.plot(detrended) \n",
    "plt.xlabel('mes')\n",
    "plt.ylabel('Nascimentos')\n",
    "plt.title('Detrending usando Scipy Signal', fontsize=16) \n",
    "plt.show()"
   ]
  },
  {
   "cell_type": "markdown",
   "metadata": {},
   "source": [
    "Um filtro HP também é usado para diminuir uma série de tempo e suavizar os dados. É usado para remover flutuações de curto prazo. O código a seguir mostra um exemplo de remoção de distorção do filtro HP."
   ]
  },
  {
   "cell_type": "code",
   "execution_count": null,
   "metadata": {},
   "outputs": [],
   "source": [
    "_,trend = hpfilter(airPassagers['Passengers'])\n",
    "\n",
    "detrended = airPassagers.Passengers - trend\n",
    "plt.figure(figsize=(15,6))\n",
    "plt.plot(detrended)\n",
    "plt.title('Detrending usando HP Filter', fontsize=16) \n",
    "plt.xlabel('mes')\n",
    "plt.ylabel('passageiros') \n",
    "plt.show()"
   ]
  },
  {
   "cell_type": "code",
   "execution_count": null,
   "metadata": {},
   "outputs": [],
   "source": []
  },
  {
   "cell_type": "code",
   "execution_count": null,
   "metadata": {},
   "outputs": [],
   "source": [
    "\n",
    "_,trend= hpfilter(birds.Births)\n",
    "\n",
    "plt.figure(figsize=(15,6))\n",
    "plt.plot(trend)\n",
    "plt.title('Detrending usando HP Filter', fontsize=16) \n",
    "plt.xlabel('mes')\n",
    "plt.ylabel('Nascimentos') \n",
    "plt.show()"
   ]
  },
  {
   "cell_type": "markdown",
   "metadata": {},
   "source": [
    "* identificando autocorrelação usando Pandas"
   ]
  },
  {
   "cell_type": "code",
   "execution_count": null,
   "metadata": {},
   "outputs": [],
   "source": [
    "\n",
    "autocorrelation_plot(airPassagers.Passengers.tolist())"
   ]
  },
  {
   "cell_type": "code",
   "execution_count": null,
   "metadata": {},
   "outputs": [],
   "source": []
  },
  {
   "cell_type": "code",
   "execution_count": null,
   "metadata": {},
   "outputs": [],
   "source": [
    "autocorrelation_plot(birds.Births.tolist())"
   ]
  },
  {
   "cell_type": "code",
   "execution_count": null,
   "metadata": {},
   "outputs": [],
   "source": [
    "plot_acf(birds.Births)"
   ]
  },
  {
   "cell_type": "code",
   "execution_count": null,
   "metadata": {},
   "outputs": [],
   "source": [
    "plot_acf(birds.Births.diff().dropna())"
   ]
  },
  {
   "cell_type": "code",
   "execution_count": null,
   "metadata": {},
   "outputs": [],
   "source": [
    "plot_acf(airPassagers.Passengers)"
   ]
  },
  {
   "cell_type": "code",
   "execution_count": null,
   "metadata": {},
   "outputs": [],
   "source": [
    "plot_acf(airPassagers.Passengers.diff().dropna())"
   ]
  },
  {
   "cell_type": "code",
   "execution_count": null,
   "metadata": {},
   "outputs": [],
   "source": [
    "plot_acf(airPassagers.Passengers.diff().diff().dropna())"
   ]
  },
  {
   "cell_type": "code",
   "execution_count": null,
   "metadata": {},
   "outputs": [],
   "source": []
  },
  {
   "cell_type": "code",
   "execution_count": null,
   "metadata": {},
   "outputs": [],
   "source": []
  },
  {
   "cell_type": "markdown",
   "metadata": {},
   "source": [
    "# Decompondo uma série temporal em seus componentes\n",
    "\n",
    "* Decomposição é um método usado para isolar os dados da série temporal em diferentes elementos, como tendências, sazonalidade, variância cíclica e resíduos. Podemos aproveitar a decomposição sazonal de um modelo de estatísticas\n",
    "\n",
    "* decompor os dados em suas partes constituintes, considerando as séries como aditivas ou multiplicativas.\n",
    "    * Tendências aumento ou diminuição no valor dos dados ts.\n",
    "    * Sazonalidade repetir um ciclo de curto prazo de dados ts.\n",
    "    * Variações cíclicas  flutuação nas tendências longas dos dados ts.\n",
    "    * Residuais variação irregular dos dados ts."
   ]
  },
  {
   "cell_type": "markdown",
   "metadata": {},
   "source": [
    "# transformando índice em data"
   ]
  },
  {
   "cell_type": "code",
   "execution_count": null,
   "metadata": {},
   "outputs": [],
   "source": [
    "tdi = pd.DatetimeIndex(airPassagers.index)\n",
    "airPassagers.set_index(tdi, inplace=True)\n",
    "airPassagers.index.name = 'datetimeindex'"
   ]
  },
  {
   "cell_type": "code",
   "execution_count": null,
   "metadata": {},
   "outputs": [],
   "source": [
    "\n",
    "\n",
    "result = seasonal_decompose(airPassagers['Passengers'], model='add') \n",
    "result.plot()"
   ]
  },
  {
   "cell_type": "code",
   "execution_count": null,
   "metadata": {},
   "outputs": [],
   "source": [
    "result = seasonal_decompose(airPassagers['Passengers'], model='mul') \n",
    "result.plot()"
   ]
  },
  {
   "cell_type": "code",
   "execution_count": null,
   "metadata": {},
   "outputs": [],
   "source": []
  },
  {
   "cell_type": "code",
   "execution_count": null,
   "metadata": {},
   "outputs": [],
   "source": [
    "tdi = pd.DatetimeIndex(birds.index)\n",
    "birds.set_index(tdi, inplace=True)\n",
    "birds.index.name = 'datetimeindex'\n",
    "\n",
    "result = seasonal_decompose(birds['Births'], model='add') \n",
    "result.plot()"
   ]
  },
  {
   "cell_type": "code",
   "execution_count": null,
   "metadata": {},
   "outputs": [],
   "source": [
    "result = seasonal_decompose(birds['Births'], model='mul') \n",
    "result.plot()"
   ]
  },
  {
   "cell_type": "markdown",
   "metadata": {},
   "source": [
    "# Dividindo a base em treino e teste\n",
    "* Uma estratégia é definir a parte inicial como treino e o fim da sério como teste"
   ]
  },
  {
   "cell_type": "code",
   "execution_count": null,
   "metadata": {},
   "outputs": [],
   "source": [
    "train = airPassagers[:int(0.7*(len(airPassagers)))] \n",
    "valid = airPassagers[int(0.7*(len(airPassagers))):]\n",
    "print(train.shape)\n",
    "print(valid.shape)\n",
    "train['Passengers'].plot() \n",
    "valid['Passengers'].plot()"
   ]
  },
  {
   "cell_type": "code",
   "execution_count": null,
   "metadata": {},
   "outputs": [],
   "source": []
  },
  {
   "cell_type": "code",
   "execution_count": null,
   "metadata": {},
   "outputs": [],
   "source": []
  },
  {
   "cell_type": "code",
   "execution_count": null,
   "metadata": {},
   "outputs": [],
   "source": [
    "#10,2,2 - passengers\n",
    "\n",
    "model = ARIMA(train, order=(15, 1, 1))  \n",
    "fitted = model.fit()\n",
    "\n",
    "# Forecast\n",
    "fc, _, _ = fitted.forecast(valid.shape[0], alpha=0.05)  # 95% conf\n",
    "\n",
    "fc_series = pd.Series(fc, index=valid.index)\n",
    "\n",
    "# Plot\n",
    "plt.figure(figsize=(12,5), dpi=100)\n",
    "plt.plot(train, label='Treino')\n",
    "plt.plot(valid, label='Teste')\n",
    "plt.plot(fc_series, label='Predição')\n",
    "plt.title('Comparando Predição e Original')\n",
    "plt.legend(loc='upper left', fontsize=8)\n",
    "plt.show()"
   ]
  },
  {
   "cell_type": "code",
   "execution_count": null,
   "metadata": {},
   "outputs": [],
   "source": [
    "residuals = DataFrame(fitted.resid)\n",
    "residuals.plot()\n",
    "pyplot.show()\n",
    "# density plot of residuals\n",
    "residuals.plot(kind='kde')\n",
    "pyplot.show()"
   ]
  },
  {
   "cell_type": "markdown",
   "metadata": {},
   "source": [
    "# MSE"
   ]
  },
  {
   "cell_type": "code",
   "execution_count": null,
   "metadata": {},
   "outputs": [],
   "source": [
    "fc, _, _ = fitted.forecast(valid.shape[0], alpha=0.05)  # 95% conf\n",
    "mse=mean_squared_error(valid.Passengers, fc, squared=True)\n",
    "mse"
   ]
  },
  {
   "cell_type": "code",
   "execution_count": null,
   "metadata": {},
   "outputs": [],
   "source": [
    "fc, _, _ = fitted.forecast(valid.shape[0], alpha=0.05)  # 95% conf\n",
    "mse=mean_squared_error(valid.Births, fc, squared=True)\n",
    "mse"
   ]
  },
  {
   "cell_type": "code",
   "execution_count": null,
   "metadata": {},
   "outputs": [],
   "source": []
  },
  {
   "cell_type": "markdown",
   "metadata": {},
   "source": [
    "# Separando Treino e Teste passaros"
   ]
  },
  {
   "cell_type": "code",
   "execution_count": null,
   "metadata": {},
   "outputs": [],
   "source": [
    "train = birds[:int(0.85*(len(birds)))] \n",
    "valid = birds[int(0.85*(len(birds))):]\n",
    "print(train.shape)\n",
    "print(valid.shape)\n",
    "train['Births'].plot() \n",
    "valid['Births'].plot()"
   ]
  },
  {
   "cell_type": "code",
   "execution_count": null,
   "metadata": {},
   "outputs": [],
   "source": []
  }
 ],
 "metadata": {
  "kernelspec": {
   "display_name": "Python 3",
   "language": "python",
   "name": "python3"
  },
  "language_info": {
   "codemirror_mode": {
    "name": "ipython",
    "version": 3
   },
   "file_extension": ".py",
   "mimetype": "text/x-python",
   "name": "python",
   "nbconvert_exporter": "python",
   "pygments_lexer": "ipython3",
   "version": "3.8.8"
  }
 },
 "nbformat": 4,
 "nbformat_minor": 4
}
