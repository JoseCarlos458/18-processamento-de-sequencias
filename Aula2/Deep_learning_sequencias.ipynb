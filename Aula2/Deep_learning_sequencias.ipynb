{
 "cells": [
  {
   "cell_type": "code",
   "execution_count": 3,
   "metadata": {},
   "outputs": [],
   "source": [
    "import os\n",
    "from matplotlib import pyplot as plt\n",
    "import numpy as np\n",
    "\n",
    "from tensorflow.keras.models import Sequential \n",
    "from tensorflow.keras import layers\n",
    "from tensorflow.keras.optimizers import RMSprop\n",
    "\n",
    "\n",
    "from tensorflow.keras.datasets import imdb\n",
    "from tensorflow.keras.preprocessing import sequence\n",
    "from tensorflow.keras import layers\n",
    "from tensorflow.keras.models import Sequential\n",
    "\n",
    "#from keras.datasets import imdb"
   ]
  },
  {
   "cell_type": "code",
   "execution_count": 4,
   "metadata": {},
   "outputs": [],
   "source": [
    "data_dir = '/home/silvio/dataset/jena/'"
   ]
  },
  {
   "cell_type": "markdown",
   "metadata": {},
   "source": [
    "# dataset de dados climáticos\n",
    "## Colunas\n",
    "* Date Time \n",
    "* p (mbar)\n",
    "* T (degC)\n",
    "* Tpot (K)\n",
    "* Tdew (degC)\n",
    "* rh (%)\n",
    "* VPmax (mbar)\n",
    "* VPact (mbar)\n",
    "* VPdef (mbar)\n",
    "* sh (g/kg)\n",
    "* H2OC (mmol/mol)\n",
    "* rho (g/m**3)\n",
    "* wv (m/s)\n",
    "* max. wv (m/s)\n",
    "* wd (deg)\n"
   ]
  },
  {
   "cell_type": "code",
   "execution_count": 5,
   "metadata": {},
   "outputs": [
    {
     "name": "stdout",
     "output_type": "stream",
     "text": [
      "['\"Date Time\"', '\"p (mbar)\"', '\"T (degC)\"', '\"Tpot (K)\"', '\"Tdew (degC)\"', '\"rh (%)\"', '\"VPmax (mbar)\"', '\"VPact (mbar)\"', '\"VPdef (mbar)\"', '\"sh (g/kg)\"', '\"H2OC (mmol/mol)\"', '\"rho (g/m**3)\"', '\"wv (m/s)\"', '\"max. wv (m/s)\"', '\"wd (deg)\"']\n",
      "420451\n"
     ]
    }
   ],
   "source": [
    "fname = os.path.join(data_dir, 'jena_climate_2009_2016.csv')\n",
    "f = open(fname)\n",
    "data = f.read()\n",
    "f.close()\n",
    "lines = data.split('\\n')\n",
    "header = lines[0].split(',')\n",
    "lines = lines[1:]\n",
    "print(header)\n",
    "print(len(lines))"
   ]
  },
  {
   "cell_type": "code",
   "execution_count": 6,
   "metadata": {},
   "outputs": [],
   "source": [
    "\n",
    "float_data = np.zeros((len(lines), len(header) - 1))\n",
    "for i, line in enumerate(lines):\n",
    "    values = [float(x) for x in line.split(',')[1:]]\n",
    "    float_data[i, :] = values"
   ]
  },
  {
   "cell_type": "code",
   "execution_count": 7,
   "metadata": {},
   "outputs": [
    {
     "data": {
      "text/plain": [
       "(420451, 14)"
      ]
     },
     "execution_count": 7,
     "metadata": {},
     "output_type": "execute_result"
    }
   ],
   "source": [
    "float_data.shape"
   ]
  },
  {
   "cell_type": "code",
   "execution_count": 8,
   "metadata": {},
   "outputs": [
    {
     "data": {
      "text/plain": [
       "(400, 14)"
      ]
     },
     "execution_count": 8,
     "metadata": {},
     "output_type": "execute_result"
    }
   ],
   "source": [
    "float_data=float_data[0:400,]\n",
    "float_data.shape"
   ]
  },
  {
   "cell_type": "markdown",
   "metadata": {},
   "source": [
    "# Coluna Temperatura (normalizada)"
   ]
  },
  {
   "cell_type": "code",
   "execution_count": 9,
   "metadata": {},
   "outputs": [
    {
     "data": {
      "text/plain": [
       "[<matplotlib.lines.Line2D at 0x7fa83ec16d00>]"
      ]
     },
     "execution_count": 9,
     "metadata": {},
     "output_type": "execute_result"
    },
    {
     "data": {
      "image/png": "[encoded data removed]",
      "text/plain": [
       "<Figure size 432x288 with 1 Axes>"
      ]
     },
     "metadata": {
      "needs_background": "light"
     },
     "output_type": "display_data"
    }
   ],
   "source": [
    "\n",
    "temp = float_data[:, 1] \n",
    "plt.plot(range(len(temp)), temp)"
   ]
  },
  {
   "cell_type": "markdown",
   "metadata": {},
   "source": [
    "# amostra de intervalo de datas"
   ]
  },
  {
   "cell_type": "code",
   "execution_count": 11,
   "metadata": {},
   "outputs": [],
   "source": [
    "plt.plot(range(1440), temp[:1440])"
   ]
  },
  {
   "cell_type": "markdown",
   "metadata": {},
   "source": [
    "# normalização"
   ]
  },
  {
   "cell_type": "code",
   "execution_count": 12,
   "metadata": {},
   "outputs": [],
   "source": [
    "mean = float_data[:200000].mean(axis=0)\n",
    "float_data -= mean\n",
    "std = float_data[:200000].std(axis=0)\n",
    "float_data /= std"
   ]
  },
  {
   "cell_type": "markdown",
   "metadata": {},
   "source": [
    "# Função para auxiliar na criação de dados de treino, teste e validação\n",
    "* palavra reservad yield : suporte para criação de objetos do tipo generator\n",
    "* Modeo mais eficiente de leitura de dados sem comprometer a memória"
   ]
  },
  {
   "cell_type": "code",
   "execution_count": 13,
   "metadata": {},
   "outputs": [],
   "source": [
    "def generator(data, lookback, delay, min_index, max_index,\n",
    "              shuffle=False, batch_size=128, step=6):\n",
    "    if max_index is None:\n",
    "        max_index = len(data) - delay - 1\n",
    "    i = min_index + lookback\n",
    "    while 1:\n",
    "        if shuffle:\n",
    "            rows = np.random.randint(\n",
    "                min_index + lookback, max_index, size=batch_size)\n",
    "        else:\n",
    "            if i + batch_size >= max_index:\n",
    "                i = min_index + lookback\n",
    "            rows = np.arange(i, min(i + batch_size, max_index))\n",
    "            i += len(rows)\n",
    "        samples = np.zeros((len(rows),\n",
    "                           lookback // step,\n",
    "                           data.shape[-1]))\n",
    "        targets = np.zeros((len(rows),))\n",
    "        for j, row in enumerate(rows):\n",
    "            indices = range(rows[j] - lookback, rows[j], step)\n",
    "            samples[j] = data[indices]\n",
    "            targets[j] = data[rows[j] + delay][1]\n",
    "        yield samples, targets\n"
   ]
  },
  {
   "cell_type": "code",
   "execution_count": null,
   "metadata": {},
   "outputs": [],
   "source": []
  },
  {
   "cell_type": "code",
   "execution_count": 16,
   "metadata": {},
   "outputs": [],
   "source": [
    "#lookback = 1440\n",
    "lookback = 30\n",
    "step = 6\n",
    "#delay = 144\n",
    "delay = 10\n",
    "#batch_size = 128\n",
    "batch_size = 2"
   ]
  },
  {
   "cell_type": "code",
   "execution_count": null,
   "metadata": {},
   "outputs": [],
   "source": []
  },
  {
   "cell_type": "code",
   "execution_count": 17,
   "metadata": {},
   "outputs": [],
   "source": [
    "train_gen = generator(float_data,\n",
    "                      lookback=lookback,\n",
    "                      delay=delay,\n",
    "                      min_index=0,\n",
    "                      max_index=200,#200000,\n",
    "                      shuffle=True,\n",
    "                      step=step,\n",
    "                      batch_size=batch_size)\n",
    "val_gen = generator(float_data,\n",
    "                    lookback=lookback,\n",
    "                    delay=delay,\n",
    "                    min_index=200,#200001,\n",
    "                    max_index=250,#300000,\n",
    "                    step=step,\n",
    "                    batch_size=batch_size)\n",
    "test_gen = generator(float_data,\n",
    "                     lookback=lookback,\n",
    "                     delay=delay,\n",
    "                     min_index=250,#300001,\n",
    "                     max_index=300,#None,\n",
    "                     step=step,\n",
    "                     batch_size=batch_size)\n",
    "\n",
    "val_steps = (300000 - 200001 - lookback)\n",
    "\n",
    "test_steps = (len(float_data) - 300001 - lookback)"
   ]
  },
  {
   "cell_type": "code",
   "execution_count": null,
   "metadata": {},
   "outputs": [],
   "source": []
  },
  {
   "cell_type": "code",
   "execution_count": 18,
   "metadata": {},
   "outputs": [
    {
     "name": "stdout",
     "output_type": "stream",
     "text": [
      "<class 'generator'>\n",
      "(2, 5, 14)\n",
      "(2,)\n"
     ]
    }
   ],
   "source": [
    "print(type(val_gen))\n",
    "samples, targets = next(val_gen)\n",
    "print(samples.shape)\n",
    "print(targets.shape)"
   ]
  },
  {
   "cell_type": "code",
   "execution_count": null,
   "metadata": {},
   "outputs": [],
   "source": []
  },
  {
   "cell_type": "markdown",
   "metadata": {},
   "source": [
    "# Percorrendo um objeto generator\n",
    "* "
   ]
  },
  {
   "cell_type": "code",
   "execution_count": 19,
   "metadata": {},
   "outputs": [],
   "source": [
    " def evaluate_naive_method():\n",
    "            batch_maes = []\n",
    "            for step in range(val_steps):\n",
    "                samples, targets = next(val_gen)\n",
    "                preds = samples[:, -1, 1]\n",
    "                mae = np.mean(np.abs(preds - targets))\n",
    "                batch_maes.append(mae)\n",
    "            print(np.mean(batch_maes))\n",
    "        \n"
   ]
  },
  {
   "cell_type": "code",
   "execution_count": 20,
   "metadata": {},
   "outputs": [
    {
     "name": "stdout",
     "output_type": "stream",
     "text": [
      "0.2687811214600597\n"
     ]
    }
   ],
   "source": [
    "evaluate_naive_method()"
   ]
  },
  {
   "cell_type": "code",
   "execution_count": 21,
   "metadata": {},
   "outputs": [
    {
     "data": {
      "text/plain": [
       "0.6311839636721908"
      ]
     },
     "execution_count": 21,
     "metadata": {},
     "output_type": "execute_result"
    }
   ],
   "source": [
    "celsius_mae = 0.29 * std[1]\n",
    "celsius_mae"
   ]
  },
  {
   "cell_type": "code",
   "execution_count": 22,
   "metadata": {},
   "outputs": [],
   "source": [
    "#np.mean(np.abs(preds - targets))"
   ]
  },
  {
   "cell_type": "markdown",
   "metadata": {},
   "source": [
    "# função para plotar loss de treino e teste"
   ]
  },
  {
   "cell_type": "code",
   "execution_count": 23,
   "metadata": {},
   "outputs": [],
   "source": [
    "def plot_loss(history):\n",
    "    loss = history.history['loss']\n",
    "    #val_loss = history.history['val_loss']\n",
    "    epochs = range(1, len(loss) + 1)\n",
    "    plt.figure()\n",
    "    plt.plot(epochs, loss, 'bo', label='Training loss')\n",
    "    #plt.plot(epochs, val_loss, 'b', label='Validation loss')\n",
    "    plt.title('Training and validation loss')\n",
    "    plt.legend()\n",
    "    plt.show()"
   ]
  },
  {
   "cell_type": "markdown",
   "metadata": {},
   "source": [
    "# Exemplos de Redes neurais para atacar o problema de série temporal\n",
    "* MLP"
   ]
  },
  {
   "cell_type": "code",
   "execution_count": 24,
   "metadata": {},
   "outputs": [],
   "source": [
    "model = Sequential()\n",
    "model.add(layers.Flatten(input_shape=(lookback // step, float_data.shape[-1]))) \n",
    "model.add(layers.Dense(32, activation='relu'))\n",
    "model.add(layers.Dense(1))\n",
    "model.compile(optimizer=RMSprop(), loss='mae') \n"
   ]
  },
  {
   "cell_type": "code",
   "execution_count": 25,
   "metadata": {},
   "outputs": [
    {
     "name": "stderr",
     "output_type": "stream",
     "text": [
      "/home/silvio/.conda/envs/fiep-2021/lib/python3.8/site-packages/tensorflow/python/keras/engine/training.py:1844: UserWarning: `Model.fit_generator` is deprecated and will be removed in a future version. Please use `Model.fit`, which supports generators.\n",
      "  warnings.warn('`Model.fit_generator` is deprecated and '\n"
     ]
    },
    {
     "name": "stdout",
     "output_type": "stream",
     "text": [
      "Epoch 1/20\n",
      "200/200 [==============================] - 1s 3ms/step - loss: 0.2924\n",
      "Epoch 2/20\n",
      "200/200 [==============================] - 1s 3ms/step - loss: 0.1606\n",
      "Epoch 3/20\n",
      "200/200 [==============================] - 1s 3ms/step - loss: 0.1442\n",
      "Epoch 4/20\n",
      "200/200 [==============================] - 1s 3ms/step - loss: 0.1423\n",
      "Epoch 5/20\n",
      "200/200 [==============================] - 1s 3ms/step - loss: 0.1185\n",
      "Epoch 6/20\n",
      "200/200 [==============================] - 1s 3ms/step - loss: 0.1199\n",
      "Epoch 7/20\n",
      "200/200 [==============================] - 1s 3ms/step - loss: 0.1104\n",
      "Epoch 8/20\n",
      "200/200 [==============================] - 1s 3ms/step - loss: 0.0953\n",
      "Epoch 9/20\n",
      "200/200 [==============================] - 1s 3ms/step - loss: 0.0894\n",
      "Epoch 10/20\n",
      "200/200 [==============================] - 1s 3ms/step - loss: 0.0882\n",
      "Epoch 11/20\n",
      "200/200 [==============================] - 1s 3ms/step - loss: 0.1164\n",
      "Epoch 12/20\n",
      "200/200 [==============================] - 1s 3ms/step - loss: 0.0915\n",
      "Epoch 13/20\n",
      "200/200 [==============================] - 1s 3ms/step - loss: 0.0818\n",
      "Epoch 14/20\n",
      "200/200 [==============================] - 1s 3ms/step - loss: 0.0859\n",
      "Epoch 15/20\n",
      "200/200 [==============================] - 1s 3ms/step - loss: 0.0800\n",
      "Epoch 16/20\n",
      "200/200 [==============================] - 1s 3ms/step - loss: 0.0734\n",
      "Epoch 17/20\n",
      "200/200 [==============================] - 1s 3ms/step - loss: 0.0753\n",
      "Epoch 18/20\n",
      "200/200 [==============================] - 1s 3ms/step - loss: 0.0761\n",
      "Epoch 19/20\n",
      "200/200 [==============================] - 1s 3ms/step - loss: 0.0686\n",
      "Epoch 20/20\n",
      "200/200 [==============================] - 1s 3ms/step - loss: 0.0744\n"
     ]
    }
   ],
   "source": [
    "epochs=20\n",
    "steps_p_epochs=200\n",
    "\n",
    "#steps_p_epochs=500\n",
    "#epochs=20\n",
    "\n",
    "history = model.fit_generator(train_gen,\n",
    "steps_per_epoch=steps_p_epochs, epochs=epochs)#, validation_data=val_gen, validation_steps=val_steps)"
   ]
  },
  {
   "cell_type": "code",
   "execution_count": null,
   "metadata": {},
   "outputs": [],
   "source": []
  },
  {
   "cell_type": "code",
   "execution_count": 26,
   "metadata": {},
   "outputs": [
    {
     "data": {
      "image/png": "[encoded data removed]",
      "text/plain": [
       "<Figure size 432x288 with 1 Axes>"
      ]
     },
     "metadata": {
      "needs_background": "light"
     },
     "output_type": "display_data"
    }
   ],
   "source": [
    "plot_loss(history)"
   ]
  },
  {
   "cell_type": "markdown",
   "metadata": {},
   "source": [
    "# Usando camada GRU"
   ]
  },
  {
   "cell_type": "code",
   "execution_count": 27,
   "metadata": {},
   "outputs": [],
   "source": [
    "\n",
    "model = Sequential()\n",
    "model.add(layers.GRU(32, input_shape=(None, float_data.shape[-1])))\n",
    "model.add(layers.Dense(1))\n",
    "model.compile(optimizer=RMSprop(), loss='mae')\n"
   ]
  },
  {
   "cell_type": "code",
   "execution_count": 28,
   "metadata": {},
   "outputs": [
    {
     "name": "stdout",
     "output_type": "stream",
     "text": [
      "Epoch 1/20\n",
      "500/500 [==============================] - 5s 5ms/step - loss: 0.1405\n",
      "Epoch 2/20\n",
      "500/500 [==============================] - 3s 5ms/step - loss: 0.0884\n",
      "Epoch 3/20\n",
      "500/500 [==============================] - 3s 5ms/step - loss: 0.0704\n",
      "Epoch 4/20\n",
      "500/500 [==============================] - 3s 5ms/step - loss: 0.0688\n",
      "Epoch 5/20\n",
      "500/500 [==============================] - 3s 5ms/step - loss: 0.0682\n",
      "Epoch 6/20\n",
      "500/500 [==============================] - 3s 5ms/step - loss: 0.0583\n",
      "Epoch 7/20\n",
      "500/500 [==============================] - 3s 5ms/step - loss: 0.0571\n",
      "Epoch 8/20\n",
      "500/500 [==============================] - 3s 5ms/step - loss: 0.0542\n",
      "Epoch 9/20\n",
      "500/500 [==============================] - 3s 5ms/step - loss: 0.0521\n",
      "Epoch 10/20\n",
      "500/500 [==============================] - 3s 5ms/step - loss: 0.0497\n",
      "Epoch 11/20\n",
      "500/500 [==============================] - 3s 5ms/step - loss: 0.0488\n",
      "Epoch 12/20\n",
      "500/500 [==============================] - 3s 5ms/step - loss: 0.0443\n",
      "Epoch 13/20\n",
      "500/500 [==============================] - 3s 5ms/step - loss: 0.0455\n",
      "Epoch 14/20\n",
      "500/500 [==============================] - 3s 5ms/step - loss: 0.0418\n",
      "Epoch 15/20\n",
      "500/500 [==============================] - 3s 5ms/step - loss: 0.0423\n",
      "Epoch 16/20\n",
      "500/500 [==============================] - 3s 5ms/step - loss: 0.0391\n",
      "Epoch 17/20\n",
      "500/500 [==============================] - 3s 5ms/step - loss: 0.0380\n",
      "Epoch 18/20\n",
      "500/500 [==============================] - 3s 5ms/step - loss: 0.0354\n",
      "Epoch 19/20\n",
      "500/500 [==============================] - 3s 5ms/step - loss: 0.0354\n",
      "Epoch 20/20\n",
      "500/500 [==============================] - 3s 5ms/step - loss: 0.0354\n"
     ]
    }
   ],
   "source": [
    "history = model.fit_generator(train_gen,\n",
    "                            steps_per_epoch=500, epochs=20)#, validation_data=val_gen, validation_steps=val_steps)"
   ]
  },
  {
   "cell_type": "code",
   "execution_count": 29,
   "metadata": {},
   "outputs": [
    {
     "data": {
      "image/png": "[encoded data removed]",
      "text/plain": [
       "<Figure size 432x288 with 1 Axes>"
      ]
     },
     "metadata": {
      "needs_background": "light"
     },
     "output_type": "display_data"
    }
   ],
   "source": [
    "plot_loss(history)"
   ]
  },
  {
   "cell_type": "markdown",
   "metadata": {},
   "source": [
    "# GRU \n",
    "* dropout\n",
    "* recurrent_dropout"
   ]
  },
  {
   "cell_type": "code",
   "execution_count": 30,
   "metadata": {},
   "outputs": [
    {
     "name": "stdout",
     "output_type": "stream",
     "text": [
      "WARNING:tensorflow:Layer gru_1 will not use cuDNN kernel since it doesn't meet the cuDNN kernel criteria. It will use generic GPU kernel as fallback when running on GPU\n"
     ]
    }
   ],
   "source": [
    "model = Sequential()\n",
    "model.add(layers.GRU(32,\n",
    "                    dropout=0.2,\n",
    "                    recurrent_dropout=0.2,\n",
    "                    input_shape=(None, float_data.shape[-1])))\n",
    "model.add(layers.Dense(1))\n",
    "model.compile(optimizer=RMSprop(), loss='mae')        "
   ]
  },
  {
   "cell_type": "code",
   "execution_count": 31,
   "metadata": {},
   "outputs": [
    {
     "name": "stdout",
     "output_type": "stream",
     "text": [
      "Epoch 1/40\n",
      "500/500 [==============================] - 14s 26ms/step - loss: 0.1898\n",
      "Epoch 2/40\n",
      "500/500 [==============================] - 13s 26ms/step - loss: 0.1180\n",
      "Epoch 3/40\n",
      "500/500 [==============================] - 13s 26ms/step - loss: 0.1055\n",
      "Epoch 4/40\n",
      "500/500 [==============================] - 13s 25ms/step - loss: 0.1006\n",
      "Epoch 5/40\n",
      "500/500 [==============================] - 13s 25ms/step - loss: 0.0931\n",
      "Epoch 6/40\n",
      "500/500 [==============================] - 12s 25ms/step - loss: 0.0839\n",
      "Epoch 7/40\n",
      "500/500 [==============================] - 12s 25ms/step - loss: 0.0901\n",
      "Epoch 8/40\n",
      "500/500 [==============================] - 12s 25ms/step - loss: 0.0849\n",
      "Epoch 9/40\n",
      "500/500 [==============================] - 12s 25ms/step - loss: 0.0826\n",
      "Epoch 10/40\n",
      "500/500 [==============================] - 13s 25ms/step - loss: 0.0765\n",
      "Epoch 11/40\n",
      "500/500 [==============================] - 13s 25ms/step - loss: 0.0750\n",
      "Epoch 12/40\n",
      "500/500 [==============================] - 12s 25ms/step - loss: 0.0757\n",
      "Epoch 13/40\n",
      "500/500 [==============================] - 12s 24ms/step - loss: 0.0715\n",
      "Epoch 14/40\n",
      "500/500 [==============================] - 12s 25ms/step - loss: 0.0682\n",
      "Epoch 15/40\n",
      "500/500 [==============================] - 12s 25ms/step - loss: 0.0735\n",
      "Epoch 16/40\n",
      "500/500 [==============================] - 12s 25ms/step - loss: 0.0704\n",
      "Epoch 17/40\n",
      "500/500 [==============================] - 12s 25ms/step - loss: 0.0696\n",
      "Epoch 18/40\n",
      "500/500 [==============================] - 12s 25ms/step - loss: 0.0724\n",
      "Epoch 19/40\n",
      "500/500 [==============================] - 12s 25ms/step - loss: 0.0642\n",
      "Epoch 20/40\n",
      "500/500 [==============================] - 12s 24ms/step - loss: 0.0693\n",
      "Epoch 21/40\n",
      "500/500 [==============================] - 12s 25ms/step - loss: 0.0622\n",
      "Epoch 22/40\n",
      "500/500 [==============================] - 12s 24ms/step - loss: 0.0704\n",
      "Epoch 23/40\n",
      "500/500 [==============================] - 12s 25ms/step - loss: 0.0695\n",
      "Epoch 24/40\n",
      "500/500 [==============================] - 12s 25ms/step - loss: 0.0639\n",
      "Epoch 25/40\n",
      "500/500 [==============================] - 12s 25ms/step - loss: 0.0664\n",
      "Epoch 26/40\n",
      "500/500 [==============================] - 12s 25ms/step - loss: 0.0600\n",
      "Epoch 27/40\n",
      "500/500 [==============================] - 12s 25ms/step - loss: 0.0645\n",
      "Epoch 28/40\n",
      "500/500 [==============================] - 12s 25ms/step - loss: 0.0704\n",
      "Epoch 29/40\n",
      "500/500 [==============================] - 12s 24ms/step - loss: 0.0607\n",
      "Epoch 30/40\n",
      "500/500 [==============================] - 12s 25ms/step - loss: 0.0578\n",
      "Epoch 31/40\n",
      "500/500 [==============================] - 12s 24ms/step - loss: 0.0570\n",
      "Epoch 32/40\n",
      "500/500 [==============================] - 12s 24ms/step - loss: 0.0596\n",
      "Epoch 33/40\n",
      "500/500 [==============================] - 12s 24ms/step - loss: 0.0598\n",
      "Epoch 34/40\n",
      "500/500 [==============================] - 12s 24ms/step - loss: 0.0641\n",
      "Epoch 35/40\n",
      "500/500 [==============================] - 12s 24ms/step - loss: 0.0596\n",
      "Epoch 36/40\n",
      "500/500 [==============================] - 12s 24ms/step - loss: 0.0558\n",
      "Epoch 37/40\n",
      "500/500 [==============================] - 12s 24ms/step - loss: 0.0585\n",
      "Epoch 38/40\n",
      "500/500 [==============================] - 12s 24ms/step - loss: 0.0535\n",
      "Epoch 39/40\n",
      "500/500 [==============================] - 12s 24ms/step - loss: 0.0547\n",
      "Epoch 40/40\n",
      "500/500 [==============================] - 12s 24ms/step - loss: 0.0579\n"
     ]
    }
   ],
   "source": [
    "history = model.fit_generator(train_gen,\n",
    "                                      steps_per_epoch=500,\n",
    "                                      epochs=40)#,\n",
    "                                      #validation_data=val_gen,\n",
    "                                      #validation_steps=val_steps)"
   ]
  },
  {
   "cell_type": "code",
   "execution_count": 32,
   "metadata": {},
   "outputs": [
    {
     "data": {
      "image/png": "[encoded data removed]",
      "text/plain": [
       "<Figure size 432x288 with 1 Axes>"
      ]
     },
     "metadata": {
      "needs_background": "light"
     },
     "output_type": "display_data"
    }
   ],
   "source": [
    "plot_loss(history)"
   ]
  },
  {
   "cell_type": "markdown",
   "metadata": {},
   "source": [
    "# GRU \n",
    "* Duas camadas recorrentes\n",
    "* return_sequences"
   ]
  },
  {
   "cell_type": "code",
   "execution_count": 33,
   "metadata": {},
   "outputs": [
    {
     "name": "stdout",
     "output_type": "stream",
     "text": [
      "WARNING:tensorflow:Layer gru_2 will not use cuDNN kernel since it doesn't meet the cuDNN kernel criteria. It will use generic GPU kernel as fallback when running on GPU\n",
      "WARNING:tensorflow:Layer gru_3 will not use cuDNN kernel since it doesn't meet the cuDNN kernel criteria. It will use generic GPU kernel as fallback when running on GPU\n"
     ]
    }
   ],
   "source": [
    "model = Sequential()\n",
    "model.add(layers.GRU(32,\n",
    "                     dropout=0.1,\n",
    "                     recurrent_dropout=0.5,\n",
    "                     return_sequences=True,\n",
    "                     input_shape=(None, float_data.shape[-1])))\n",
    "model.add(layers.GRU(64, activation='relu',\n",
    "                     dropout=0.1,\n",
    "                     recurrent_dropout=0.5))\n",
    "model.add(layers.Dense(1))\n",
    "model.compile(optimizer=RMSprop(), loss='mae')"
   ]
  },
  {
   "cell_type": "code",
   "execution_count": null,
   "metadata": {},
   "outputs": [],
   "source": []
  },
  {
   "cell_type": "code",
   "execution_count": 34,
   "metadata": {},
   "outputs": [
    {
     "name": "stdout",
     "output_type": "stream",
     "text": [
      "Epoch 1/40\n",
      "500/500 [==============================] - 26s 46ms/step - loss: 0.1332\n",
      "Epoch 2/40\n",
      "500/500 [==============================] - 22s 44ms/step - loss: 0.0967\n",
      "Epoch 3/40\n",
      "500/500 [==============================] - 22s 44ms/step - loss: 0.1014\n",
      "Epoch 4/40\n",
      "500/500 [==============================] - 21s 43ms/step - loss: 0.0808\n",
      "Epoch 5/40\n",
      "500/500 [==============================] - 22s 43ms/step - loss: 0.0824\n",
      "Epoch 6/40\n",
      "500/500 [==============================] - 22s 43ms/step - loss: 0.0756\n",
      "Epoch 7/40\n",
      "500/500 [==============================] - 22s 43ms/step - loss: 0.0701\n",
      "Epoch 8/40\n",
      "500/500 [==============================] - 22s 44ms/step - loss: 0.0726\n",
      "Epoch 9/40\n",
      "500/500 [==============================] - 22s 44ms/step - loss: 0.0715\n",
      "Epoch 10/40\n",
      "500/500 [==============================] - 22s 44ms/step - loss: 0.0698\n",
      "Epoch 11/40\n",
      "500/500 [==============================] - 22s 44ms/step - loss: 0.0792\n",
      "Epoch 12/40\n",
      "500/500 [==============================] - 22s 44ms/step - loss: 0.0657\n",
      "Epoch 13/40\n",
      "500/500 [==============================] - 22s 44ms/step - loss: 0.0700\n",
      "Epoch 14/40\n",
      "500/500 [==============================] - 22s 43ms/step - loss: 0.0653\n",
      "Epoch 15/40\n",
      "500/500 [==============================] - 22s 44ms/step - loss: 0.0700\n",
      "Epoch 16/40\n",
      "500/500 [==============================] - 22s 44ms/step - loss: 0.0655\n",
      "Epoch 17/40\n",
      "500/500 [==============================] - 22s 44ms/step - loss: 0.0690\n",
      "Epoch 18/40\n",
      "500/500 [==============================] - 22s 44ms/step - loss: 0.0662\n",
      "Epoch 19/40\n",
      "500/500 [==============================] - 22s 44ms/step - loss: 0.0682\n",
      "Epoch 20/40\n",
      "500/500 [==============================] - 22s 44ms/step - loss: 0.0655\n",
      "Epoch 21/40\n",
      "500/500 [==============================] - 22s 44ms/step - loss: 0.0610\n",
      "Epoch 22/40\n",
      "500/500 [==============================] - 22s 44ms/step - loss: 0.0616\n",
      "Epoch 23/40\n",
      "500/500 [==============================] - 22s 44ms/step - loss: 0.0573\n",
      "Epoch 24/40\n",
      "500/500 [==============================] - 22s 44ms/step - loss: 0.0676\n",
      "Epoch 25/40\n",
      "500/500 [==============================] - 22s 43ms/step - loss: 0.0632\n",
      "Epoch 26/40\n",
      "500/500 [==============================] - 22s 43ms/step - loss: 0.0630\n",
      "Epoch 27/40\n",
      "500/500 [==============================] - 22s 44ms/step - loss: 0.0569\n",
      "Epoch 28/40\n",
      "500/500 [==============================] - 22s 44ms/step - loss: 0.0573\n",
      "Epoch 29/40\n",
      "500/500 [==============================] - 22s 44ms/step - loss: 0.0600\n",
      "Epoch 30/40\n",
      "500/500 [==============================] - 22s 44ms/step - loss: 0.0582\n",
      "Epoch 31/40\n",
      "500/500 [==============================] - 22s 44ms/step - loss: 0.0586\n",
      "Epoch 32/40\n",
      "500/500 [==============================] - 22s 43ms/step - loss: 0.0573\n",
      "Epoch 33/40\n",
      "500/500 [==============================] - 22s 44ms/step - loss: 0.0574\n",
      "Epoch 34/40\n",
      "500/500 [==============================] - 22s 44ms/step - loss: 0.0543\n",
      "Epoch 35/40\n",
      "500/500 [==============================] - 22s 44ms/step - loss: 0.0532\n",
      "Epoch 36/40\n",
      "500/500 [==============================] - 22s 43ms/step - loss: 0.0560\n",
      "Epoch 37/40\n",
      "500/500 [==============================] - 22s 44ms/step - loss: 0.0589\n",
      "Epoch 38/40\n",
      "500/500 [==============================] - 22s 44ms/step - loss: 0.0546\n",
      "Epoch 39/40\n",
      "500/500 [==============================] - 21s 43ms/step - loss: 0.0559\n",
      "Epoch 40/40\n",
      "500/500 [==============================] - 21s 43ms/step - loss: 0.0535\n"
     ]
    }
   ],
   "source": [
    "history = model.fit_generator(train_gen,\n",
    "                              steps_per_epoch=500,\n",
    "                              epochs=40)#,\n",
    "                              #validation_data=val_gen,\n",
    "                              #validation_steps=val_steps)"
   ]
  },
  {
   "cell_type": "code",
   "execution_count": 35,
   "metadata": {},
   "outputs": [
    {
     "data": {
      "image/png": "[encoded data removed]",
      "text/plain": [
       "<Figure size 432x288 with 1 Axes>"
      ]
     },
     "metadata": {
      "needs_background": "light"
     },
     "output_type": "display_data"
    }
   ],
   "source": [
    "plot_loss(history)"
   ]
  },
  {
   "cell_type": "markdown",
   "metadata": {},
   "source": [
    "# GRU bidirecionais\n",
    "* Camada LSTM\n",
    "* Embedding"
   ]
  },
  {
   "cell_type": "markdown",
   "metadata": {},
   "source": [
    "# GRU\n",
    "* Camadas bidirecionais"
   ]
  },
  {
   "cell_type": "code",
   "execution_count": 36,
   "metadata": {},
   "outputs": [
    {
     "name": "stdout",
     "output_type": "stream",
     "text": [
      "Epoch 1/40\n",
      "500/500 [==============================] - 6s 8ms/step - loss: 0.1428\n",
      "Epoch 2/40\n",
      "500/500 [==============================] - 4s 8ms/step - loss: 0.0869\n",
      "Epoch 3/40\n",
      "500/500 [==============================] - 4s 8ms/step - loss: 0.0733\n",
      "Epoch 4/40\n",
      "500/500 [==============================] - 4s 8ms/step - loss: 0.0708\n",
      "Epoch 5/40\n",
      "500/500 [==============================] - 4s 8ms/step - loss: 0.0630\n",
      "Epoch 6/40\n",
      "500/500 [==============================] - 4s 8ms/step - loss: 0.0587\n",
      "Epoch 7/40\n",
      "500/500 [==============================] - 4s 8ms/step - loss: 0.0579\n",
      "Epoch 8/40\n",
      "500/500 [==============================] - 4s 8ms/step - loss: 0.0553\n",
      "Epoch 9/40\n",
      "500/500 [==============================] - 4s 8ms/step - loss: 0.0540\n",
      "Epoch 10/40\n",
      "500/500 [==============================] - 4s 8ms/step - loss: 0.0489\n",
      "Epoch 11/40\n",
      "500/500 [==============================] - 4s 8ms/step - loss: 0.0482\n",
      "Epoch 12/40\n",
      "500/500 [==============================] - 4s 8ms/step - loss: 0.0450\n",
      "Epoch 13/40\n",
      "500/500 [==============================] - 4s 8ms/step - loss: 0.0409\n",
      "Epoch 14/40\n",
      "500/500 [==============================] - 4s 8ms/step - loss: 0.0399\n",
      "Epoch 15/40\n",
      "500/500 [==============================] - 4s 8ms/step - loss: 0.0394\n",
      "Epoch 16/40\n",
      "500/500 [==============================] - 4s 8ms/step - loss: 0.0354\n",
      "Epoch 17/40\n",
      "500/500 [==============================] - 4s 8ms/step - loss: 0.0364\n",
      "Epoch 18/40\n",
      "500/500 [==============================] - 4s 8ms/step - loss: 0.0366\n",
      "Epoch 19/40\n",
      "500/500 [==============================] - 4s 7ms/step - loss: 0.0340\n",
      "Epoch 20/40\n",
      "500/500 [==============================] - 4s 8ms/step - loss: 0.0312\n",
      "Epoch 21/40\n",
      "500/500 [==============================] - 4s 8ms/step - loss: 0.0305\n",
      "Epoch 22/40\n",
      "500/500 [==============================] - 4s 8ms/step - loss: 0.0299\n",
      "Epoch 23/40\n",
      "500/500 [==============================] - 4s 8ms/step - loss: 0.0292\n",
      "Epoch 24/40\n",
      "500/500 [==============================] - 4s 8ms/step - loss: 0.0289\n",
      "Epoch 25/40\n",
      "500/500 [==============================] - 4s 8ms/step - loss: 0.0275\n",
      "Epoch 26/40\n",
      "500/500 [==============================] - 4s 8ms/step - loss: 0.0293\n",
      "Epoch 27/40\n",
      "500/500 [==============================] - 4s 8ms/step - loss: 0.0279\n",
      "Epoch 28/40\n",
      "500/500 [==============================] - 4s 8ms/step - loss: 0.0268\n",
      "Epoch 29/40\n",
      "500/500 [==============================] - 4s 8ms/step - loss: 0.0269\n",
      "Epoch 30/40\n",
      "500/500 [==============================] - 4s 8ms/step - loss: 0.0257\n",
      "Epoch 31/40\n",
      "500/500 [==============================] - 4s 8ms/step - loss: 0.0237\n",
      "Epoch 32/40\n",
      "500/500 [==============================] - 4s 8ms/step - loss: 0.0237\n",
      "Epoch 33/40\n",
      "500/500 [==============================] - 4s 8ms/step - loss: 0.0252\n",
      "Epoch 34/40\n",
      "500/500 [==============================] - 4s 8ms/step - loss: 0.0238\n",
      "Epoch 35/40\n",
      "500/500 [==============================] - 4s 8ms/step - loss: 0.0251\n",
      "Epoch 36/40\n",
      "500/500 [==============================] - 4s 8ms/step - loss: 0.0219\n",
      "Epoch 37/40\n",
      "500/500 [==============================] - 4s 8ms/step - loss: 0.0218\n",
      "Epoch 38/40\n",
      "500/500 [==============================] - 4s 8ms/step - loss: 0.0226\n",
      "Epoch 39/40\n",
      "500/500 [==============================] - 4s 8ms/step - loss: 0.0222\n",
      "Epoch 40/40\n",
      "500/500 [==============================] - 4s 8ms/step - loss: 0.0241\n"
     ]
    }
   ],
   "source": [
    "model = Sequential()\n",
    "model.add(layers.Bidirectional(\n",
    "    layers.GRU(32), input_shape=(None, float_data.shape[-1])))\n",
    "model.add(layers.Dense(1))\n",
    "model.compile(optimizer=RMSprop(), loss='mae')\n",
    "history = model.fit_generator(train_gen,\n",
    "                              steps_per_epoch=500,\n",
    "                              epochs=40)#,\n",
    "                              #validation_data=val_gen,\n",
    "                              #validation_steps=val_steps)\n"
   ]
  },
  {
   "cell_type": "code",
   "execution_count": 83,
   "metadata": {},
   "outputs": [
    {
     "data": {
      "image/png": "[encoded data removed]",
      "text/plain": [
       "<Figure size 432x288 with 1 Axes>"
      ]
     },
     "metadata": {
      "needs_background": "light"
     },
     "output_type": "display_data"
    }
   ],
   "source": [
    "plot_loss(history)"
   ]
  },
  {
   "cell_type": "code",
   "execution_count": null,
   "metadata": {},
   "outputs": [],
   "source": []
  },
  {
   "cell_type": "code",
   "execution_count": 42,
   "metadata": {},
   "outputs": [
    {
     "data": {
      "text/plain": [
       "0    1\n",
       "dtype: int64"
      ]
     },
     "execution_count": 42,
     "metadata": {},
     "output_type": "execute_result"
    }
   ],
   "source": []
  },
  {
   "cell_type": "code",
   "execution_count": null,
   "metadata": {},
   "outputs": [],
   "source": []
  },
  {
   "cell_type": "code",
   "execution_count": null,
   "metadata": {},
   "outputs": [],
   "source": []
  }
 ],
 "metadata": {
  "kernelspec": {
   "display_name": "Python 3",
   "language": "python",
   "name": "python3"
  },
  "language_info": {
   "codemirror_mode": {
    "name": "ipython",
    "version": 3
   },
   "file_extension": ".py",
   "mimetype": "text/x-python",
   "name": "python",
   "nbconvert_exporter": "python",
   "pygments_lexer": "ipython3",
   "version": "3.8.8"
  }
 },
 "nbformat": 4,
 "nbformat_minor": 4
}
